{
  "nbformat": 4,
  "nbformat_minor": 0,
  "metadata": {
    "colab": {
      "provenance": [],
      "collapsed_sections": []
    },
    "kernelspec": {
      "name": "python3",
      "display_name": "Python 3"
    },
    "language_info": {
      "name": "python"
    }
  },
  "cells": [
    {
      "cell_type": "markdown",
      "source": [
        "## Análise das Músicas do Spotify\n"
      ],
      "metadata": {
        "id": "-ZXzNCVg6pVx"
      }
    },
    {
      "cell_type": "code",
      "source": [
        "import pandas as pd\n",
        "import seaborn as sns\n",
        "from sklearn.metrics.pairwise import pairwise_distances"
      ],
      "metadata": {
        "id": "jSj_V8V06k4A"
      },
      "execution_count": null,
      "outputs": []
    },
    {
      "cell_type": "code",
      "source": [
        "tracks = pd.read_csv('tracks.csv')\n",
        "tracks"
      ],
      "metadata": {
        "colab": {
          "base_uri": "https://localhost:8080/",
          "height": 783
        },
        "id": "l20CoE1R6k6I",
        "outputId": "aac8143d-30b0-4a62-b7cb-a445b51e0950"
      },
      "execution_count": null,
      "outputs": [
        {
          "output_type": "execute_result",
          "data": {
            "text/plain": [
              "                                           id  \\\n",
              "0        spotify:track:0hJkacKTAr8GZeKwcPuUk2   \n",
              "1        spotify:track:1xjFMVi8pn5VIWiqrdxAMc   \n",
              "2        spotify:track:2ahiPTFTfIPs7UKqjKhJkc   \n",
              "3        spotify:track:2z5xCMFxAo7dn6zsu6UwL9   \n",
              "4        spotify:track:16axQgz02GFMiU2xKMT4qJ   \n",
              "...                                       ...   \n",
              "2261611  spotify:track:6OjPR4Y7VGDBaJMSD3QA0t   \n",
              "2261612  spotify:track:1nvTse7nkCr8tO8LOAell4   \n",
              "2261613  spotify:track:5vKVjyFJNtfdHXzzLaWbpz   \n",
              "2261614  spotify:track:7LdoOfaFSBX9Cy2R3NGcAx   \n",
              "2261615  spotify:track:340yXcXuMtVzwnnEJq1WR3   \n",
              "\n",
              "                                             name  duration_ms  \\\n",
              "0                               Yesterday's Trash        52213   \n",
              "1                             promise [interlude]        88888   \n",
              "2                      Requiem - Alex Vidal Remix       564720   \n",
              "3                                            Kaké       245356   \n",
              "4                   F the Bull$h1t - Original Mix       315773   \n",
              "...                                           ...          ...   \n",
              "2261611                        Waking Up The Dawn       294333   \n",
              "2261612                       Here Comes the Star       202733   \n",
              "2261613                            You're With Me       293546   \n",
              "2261614  Reverse Skydiving (feat. Anabel Englund)       329065   \n",
              "2261615                        Parce que tu crois       189773   \n",
              "\n",
              "                                                   artists explicit  \\\n",
              "0        {\"(24OGO7fr96L0azkG3pZZa2,\\\"Modern Life Is War...        t   \n",
              "1                     {\"(5b0XQwyoJBFd3MwL2YxEPO,Nohidea)\"}        f   \n",
              "2        {\"(6WrPC9g41hy7LUnpxdy6u7,\\\"Alex Vidal\\\")\",\"(2...        f   \n",
              "3             {\"(44DhAhLWsSFvSqVXDUruVE,\\\"Young Paris\\\")\"}        t   \n",
              "4           {\"(2ohlvFf9PBsDELdRstPtlP,\\\"Ferry Corsten\\\")\"}        f   \n",
              "...                                                    ...      ...   \n",
              "2261611   {\"(7beSXA7nBwZ5xJ8jUa77ZL,\\\"Michael English\\\")\"}        f   \n",
              "2261612  {\"(48YxSlb23RAaCd4RyHcV9V,\\\"Herman's Hermits\\\")\"}        f   \n",
              "2261613              {\"(0WTXG5dSB0wpykAqPpEmFl,UnchainD)\"}        f   \n",
              "2261614  {\"(4aKZ8rfdsQeR7YSskFu9V3,\\\"Hot Natured\\\")\",\"(...        f   \n",
              "2261615  {\"(2hgP9Ap2tc10R5jrQaEpMT,\\\"Charles Aznavour\\\")\"}        f   \n",
              "\n",
              "         popularity  acousticness  danceability  energy  instrumentalness  \\\n",
              "0                 0      0.004530         0.324   0.971          0.012800   \n",
              "1                 0      0.833000         0.545   0.495          0.629000   \n",
              "2                 0      0.033200         0.695   0.592          0.892000   \n",
              "3                 0      0.000440         0.450   0.629          0.895000   \n",
              "4                 0      0.000927         0.846   0.707          0.903000   \n",
              "...             ...           ...           ...     ...               ...   \n",
              "2261611           2      0.109000         0.538   0.609          0.000006   \n",
              "2261612           0      0.698000         0.339   0.325          0.000005   \n",
              "2261613           0      0.018600         0.482   0.443          0.000345   \n",
              "2261614          46      0.006410         0.915   0.461          0.059500   \n",
              "2261615           0      0.593000         0.472   0.485          0.000000   \n",
              "\n",
              "         key  liveness  loudness  mode  speechiness    tempo  time_signature  \n",
              "0          0    0.3340    -3.168     1       0.0548   95.721               4  \n",
              "1         11    0.3860   -13.538     1       0.1020   62.631               4  \n",
              "2          0    0.5790    -9.588     1       0.0345  125.008               4  \n",
              "3          7    0.1080    -7.059     1       0.1460  193.228               3  \n",
              "4          6    0.0666    -5.949     0       0.1270  127.970               4  \n",
              "...      ...       ...       ...   ...          ...      ...             ...  \n",
              "2261611    5    0.0948    -7.392     1       0.0275   87.960               4  \n",
              "2261612    2    0.5550   -11.445     1       0.0252   91.286               4  \n",
              "2261613    4    0.1100    -8.622     1       0.0276  144.962               4  \n",
              "2261614   11    0.0771    -7.965     0       0.0505  118.013               4  \n",
              "2261615    4    0.0924    -7.175     0       0.0314   61.368               4  \n",
              "\n",
              "[2261616 rows x 17 columns]"
            ],
            "text/html": [
              "\n",
              "  <div id=\"df-af460d65-dbce-4287-99d4-439064e90813\">\n",
              "    <div class=\"colab-df-container\">\n",
              "      <div>\n",
              "<style scoped>\n",
              "    .dataframe tbody tr th:only-of-type {\n",
              "        vertical-align: middle;\n",
              "    }\n",
              "\n",
              "    .dataframe tbody tr th {\n",
              "        vertical-align: top;\n",
              "    }\n",
              "\n",
              "    .dataframe thead th {\n",
              "        text-align: right;\n",
              "    }\n",
              "</style>\n",
              "<table border=\"1\" class=\"dataframe\">\n",
              "  <thead>\n",
              "    <tr style=\"text-align: right;\">\n",
              "      <th></th>\n",
              "      <th>id</th>\n",
              "      <th>name</th>\n",
              "      <th>duration_ms</th>\n",
              "      <th>artists</th>\n",
              "      <th>explicit</th>\n",
              "      <th>popularity</th>\n",
              "      <th>acousticness</th>\n",
              "      <th>danceability</th>\n",
              "      <th>energy</th>\n",
              "      <th>instrumentalness</th>\n",
              "      <th>key</th>\n",
              "      <th>liveness</th>\n",
              "      <th>loudness</th>\n",
              "      <th>mode</th>\n",
              "      <th>speechiness</th>\n",
              "      <th>tempo</th>\n",
              "      <th>time_signature</th>\n",
              "    </tr>\n",
              "  </thead>\n",
              "  <tbody>\n",
              "    <tr>\n",
              "      <th>0</th>\n",
              "      <td>spotify:track:0hJkacKTAr8GZeKwcPuUk2</td>\n",
              "      <td>Yesterday's Trash</td>\n",
              "      <td>52213</td>\n",
              "      <td>{\"(24OGO7fr96L0azkG3pZZa2,\\\"Modern Life Is War...</td>\n",
              "      <td>t</td>\n",
              "      <td>0</td>\n",
              "      <td>0.004530</td>\n",
              "      <td>0.324</td>\n",
              "      <td>0.971</td>\n",
              "      <td>0.012800</td>\n",
              "      <td>0</td>\n",
              "      <td>0.3340</td>\n",
              "      <td>-3.168</td>\n",
              "      <td>1</td>\n",
              "      <td>0.0548</td>\n",
              "      <td>95.721</td>\n",
              "      <td>4</td>\n",
              "    </tr>\n",
              "    <tr>\n",
              "      <th>1</th>\n",
              "      <td>spotify:track:1xjFMVi8pn5VIWiqrdxAMc</td>\n",
              "      <td>promise [interlude]</td>\n",
              "      <td>88888</td>\n",
              "      <td>{\"(5b0XQwyoJBFd3MwL2YxEPO,Nohidea)\"}</td>\n",
              "      <td>f</td>\n",
              "      <td>0</td>\n",
              "      <td>0.833000</td>\n",
              "      <td>0.545</td>\n",
              "      <td>0.495</td>\n",
              "      <td>0.629000</td>\n",
              "      <td>11</td>\n",
              "      <td>0.3860</td>\n",
              "      <td>-13.538</td>\n",
              "      <td>1</td>\n",
              "      <td>0.1020</td>\n",
              "      <td>62.631</td>\n",
              "      <td>4</td>\n",
              "    </tr>\n",
              "    <tr>\n",
              "      <th>2</th>\n",
              "      <td>spotify:track:2ahiPTFTfIPs7UKqjKhJkc</td>\n",
              "      <td>Requiem - Alex Vidal Remix</td>\n",
              "      <td>564720</td>\n",
              "      <td>{\"(6WrPC9g41hy7LUnpxdy6u7,\\\"Alex Vidal\\\")\",\"(2...</td>\n",
              "      <td>f</td>\n",
              "      <td>0</td>\n",
              "      <td>0.033200</td>\n",
              "      <td>0.695</td>\n",
              "      <td>0.592</td>\n",
              "      <td>0.892000</td>\n",
              "      <td>0</td>\n",
              "      <td>0.5790</td>\n",
              "      <td>-9.588</td>\n",
              "      <td>1</td>\n",
              "      <td>0.0345</td>\n",
              "      <td>125.008</td>\n",
              "      <td>4</td>\n",
              "    </tr>\n",
              "    <tr>\n",
              "      <th>3</th>\n",
              "      <td>spotify:track:2z5xCMFxAo7dn6zsu6UwL9</td>\n",
              "      <td>Kaké</td>\n",
              "      <td>245356</td>\n",
              "      <td>{\"(44DhAhLWsSFvSqVXDUruVE,\\\"Young Paris\\\")\"}</td>\n",
              "      <td>t</td>\n",
              "      <td>0</td>\n",
              "      <td>0.000440</td>\n",
              "      <td>0.450</td>\n",
              "      <td>0.629</td>\n",
              "      <td>0.895000</td>\n",
              "      <td>7</td>\n",
              "      <td>0.1080</td>\n",
              "      <td>-7.059</td>\n",
              "      <td>1</td>\n",
              "      <td>0.1460</td>\n",
              "      <td>193.228</td>\n",
              "      <td>3</td>\n",
              "    </tr>\n",
              "    <tr>\n",
              "      <th>4</th>\n",
              "      <td>spotify:track:16axQgz02GFMiU2xKMT4qJ</td>\n",
              "      <td>F the Bull$h1t - Original Mix</td>\n",
              "      <td>315773</td>\n",
              "      <td>{\"(2ohlvFf9PBsDELdRstPtlP,\\\"Ferry Corsten\\\")\"}</td>\n",
              "      <td>f</td>\n",
              "      <td>0</td>\n",
              "      <td>0.000927</td>\n",
              "      <td>0.846</td>\n",
              "      <td>0.707</td>\n",
              "      <td>0.903000</td>\n",
              "      <td>6</td>\n",
              "      <td>0.0666</td>\n",
              "      <td>-5.949</td>\n",
              "      <td>0</td>\n",
              "      <td>0.1270</td>\n",
              "      <td>127.970</td>\n",
              "      <td>4</td>\n",
              "    </tr>\n",
              "    <tr>\n",
              "      <th>...</th>\n",
              "      <td>...</td>\n",
              "      <td>...</td>\n",
              "      <td>...</td>\n",
              "      <td>...</td>\n",
              "      <td>...</td>\n",
              "      <td>...</td>\n",
              "      <td>...</td>\n",
              "      <td>...</td>\n",
              "      <td>...</td>\n",
              "      <td>...</td>\n",
              "      <td>...</td>\n",
              "      <td>...</td>\n",
              "      <td>...</td>\n",
              "      <td>...</td>\n",
              "      <td>...</td>\n",
              "      <td>...</td>\n",
              "      <td>...</td>\n",
              "    </tr>\n",
              "    <tr>\n",
              "      <th>2261611</th>\n",
              "      <td>spotify:track:6OjPR4Y7VGDBaJMSD3QA0t</td>\n",
              "      <td>Waking Up The Dawn</td>\n",
              "      <td>294333</td>\n",
              "      <td>{\"(7beSXA7nBwZ5xJ8jUa77ZL,\\\"Michael English\\\")\"}</td>\n",
              "      <td>f</td>\n",
              "      <td>2</td>\n",
              "      <td>0.109000</td>\n",
              "      <td>0.538</td>\n",
              "      <td>0.609</td>\n",
              "      <td>0.000006</td>\n",
              "      <td>5</td>\n",
              "      <td>0.0948</td>\n",
              "      <td>-7.392</td>\n",
              "      <td>1</td>\n",
              "      <td>0.0275</td>\n",
              "      <td>87.960</td>\n",
              "      <td>4</td>\n",
              "    </tr>\n",
              "    <tr>\n",
              "      <th>2261612</th>\n",
              "      <td>spotify:track:1nvTse7nkCr8tO8LOAell4</td>\n",
              "      <td>Here Comes the Star</td>\n",
              "      <td>202733</td>\n",
              "      <td>{\"(48YxSlb23RAaCd4RyHcV9V,\\\"Herman's Hermits\\\")\"}</td>\n",
              "      <td>f</td>\n",
              "      <td>0</td>\n",
              "      <td>0.698000</td>\n",
              "      <td>0.339</td>\n",
              "      <td>0.325</td>\n",
              "      <td>0.000005</td>\n",
              "      <td>2</td>\n",
              "      <td>0.5550</td>\n",
              "      <td>-11.445</td>\n",
              "      <td>1</td>\n",
              "      <td>0.0252</td>\n",
              "      <td>91.286</td>\n",
              "      <td>4</td>\n",
              "    </tr>\n",
              "    <tr>\n",
              "      <th>2261613</th>\n",
              "      <td>spotify:track:5vKVjyFJNtfdHXzzLaWbpz</td>\n",
              "      <td>You're With Me</td>\n",
              "      <td>293546</td>\n",
              "      <td>{\"(0WTXG5dSB0wpykAqPpEmFl,UnchainD)\"}</td>\n",
              "      <td>f</td>\n",
              "      <td>0</td>\n",
              "      <td>0.018600</td>\n",
              "      <td>0.482</td>\n",
              "      <td>0.443</td>\n",
              "      <td>0.000345</td>\n",
              "      <td>4</td>\n",
              "      <td>0.1100</td>\n",
              "      <td>-8.622</td>\n",
              "      <td>1</td>\n",
              "      <td>0.0276</td>\n",
              "      <td>144.962</td>\n",
              "      <td>4</td>\n",
              "    </tr>\n",
              "    <tr>\n",
              "      <th>2261614</th>\n",
              "      <td>spotify:track:7LdoOfaFSBX9Cy2R3NGcAx</td>\n",
              "      <td>Reverse Skydiving (feat. Anabel Englund)</td>\n",
              "      <td>329065</td>\n",
              "      <td>{\"(4aKZ8rfdsQeR7YSskFu9V3,\\\"Hot Natured\\\")\",\"(...</td>\n",
              "      <td>f</td>\n",
              "      <td>46</td>\n",
              "      <td>0.006410</td>\n",
              "      <td>0.915</td>\n",
              "      <td>0.461</td>\n",
              "      <td>0.059500</td>\n",
              "      <td>11</td>\n",
              "      <td>0.0771</td>\n",
              "      <td>-7.965</td>\n",
              "      <td>0</td>\n",
              "      <td>0.0505</td>\n",
              "      <td>118.013</td>\n",
              "      <td>4</td>\n",
              "    </tr>\n",
              "    <tr>\n",
              "      <th>2261615</th>\n",
              "      <td>spotify:track:340yXcXuMtVzwnnEJq1WR3</td>\n",
              "      <td>Parce que tu crois</td>\n",
              "      <td>189773</td>\n",
              "      <td>{\"(2hgP9Ap2tc10R5jrQaEpMT,\\\"Charles Aznavour\\\")\"}</td>\n",
              "      <td>f</td>\n",
              "      <td>0</td>\n",
              "      <td>0.593000</td>\n",
              "      <td>0.472</td>\n",
              "      <td>0.485</td>\n",
              "      <td>0.000000</td>\n",
              "      <td>4</td>\n",
              "      <td>0.0924</td>\n",
              "      <td>-7.175</td>\n",
              "      <td>0</td>\n",
              "      <td>0.0314</td>\n",
              "      <td>61.368</td>\n",
              "      <td>4</td>\n",
              "    </tr>\n",
              "  </tbody>\n",
              "</table>\n",
              "<p>2261616 rows × 17 columns</p>\n",
              "</div>\n",
              "      <button class=\"colab-df-convert\" onclick=\"convertToInteractive('df-af460d65-dbce-4287-99d4-439064e90813')\"\n",
              "              title=\"Convert this dataframe to an interactive table.\"\n",
              "              style=\"display:none;\">\n",
              "        \n",
              "  <svg xmlns=\"http://www.w3.org/2000/svg\" height=\"24px\"viewBox=\"0 0 24 24\"\n",
              "       width=\"24px\">\n",
              "    <path d=\"M0 0h24v24H0V0z\" fill=\"none\"/>\n",
              "    <path d=\"M18.56 5.44l.94 2.06.94-2.06 2.06-.94-2.06-.94-.94-2.06-.94 2.06-2.06.94zm-11 1L8.5 8.5l.94-2.06 2.06-.94-2.06-.94L8.5 2.5l-.94 2.06-2.06.94zm10 10l.94 2.06.94-2.06 2.06-.94-2.06-.94-.94-2.06-.94 2.06-2.06.94z\"/><path d=\"M17.41 7.96l-1.37-1.37c-.4-.4-.92-.59-1.43-.59-.52 0-1.04.2-1.43.59L10.3 9.45l-7.72 7.72c-.78.78-.78 2.05 0 2.83L4 21.41c.39.39.9.59 1.41.59.51 0 1.02-.2 1.41-.59l7.78-7.78 2.81-2.81c.8-.78.8-2.07 0-2.86zM5.41 20L4 18.59l7.72-7.72 1.47 1.35L5.41 20z\"/>\n",
              "  </svg>\n",
              "      </button>\n",
              "      \n",
              "  <style>\n",
              "    .colab-df-container {\n",
              "      display:flex;\n",
              "      flex-wrap:wrap;\n",
              "      gap: 12px;\n",
              "    }\n",
              "\n",
              "    .colab-df-convert {\n",
              "      background-color: #E8F0FE;\n",
              "      border: none;\n",
              "      border-radius: 50%;\n",
              "      cursor: pointer;\n",
              "      display: none;\n",
              "      fill: #1967D2;\n",
              "      height: 32px;\n",
              "      padding: 0 0 0 0;\n",
              "      width: 32px;\n",
              "    }\n",
              "\n",
              "    .colab-df-convert:hover {\n",
              "      background-color: #E2EBFA;\n",
              "      box-shadow: 0px 1px 2px rgba(60, 64, 67, 0.3), 0px 1px 3px 1px rgba(60, 64, 67, 0.15);\n",
              "      fill: #174EA6;\n",
              "    }\n",
              "\n",
              "    [theme=dark] .colab-df-convert {\n",
              "      background-color: #3B4455;\n",
              "      fill: #D2E3FC;\n",
              "    }\n",
              "\n",
              "    [theme=dark] .colab-df-convert:hover {\n",
              "      background-color: #434B5C;\n",
              "      box-shadow: 0px 1px 3px 1px rgba(0, 0, 0, 0.15);\n",
              "      filter: drop-shadow(0px 1px 2px rgba(0, 0, 0, 0.3));\n",
              "      fill: #FFFFFF;\n",
              "    }\n",
              "  </style>\n",
              "\n",
              "      <script>\n",
              "        const buttonEl =\n",
              "          document.querySelector('#df-af460d65-dbce-4287-99d4-439064e90813 button.colab-df-convert');\n",
              "        buttonEl.style.display =\n",
              "          google.colab.kernel.accessAllowed ? 'block' : 'none';\n",
              "\n",
              "        async function convertToInteractive(key) {\n",
              "          const element = document.querySelector('#df-af460d65-dbce-4287-99d4-439064e90813');\n",
              "          const dataTable =\n",
              "            await google.colab.kernel.invokeFunction('convertToInteractive',\n",
              "                                                     [key], {});\n",
              "          if (!dataTable) return;\n",
              "\n",
              "          const docLinkHtml = 'Like what you see? Visit the ' +\n",
              "            '<a target=\"_blank\" href=https://colab.research.google.com/notebooks/data_table.ipynb>data table notebook</a>'\n",
              "            + ' to learn more about interactive tables.';\n",
              "          element.innerHTML = '';\n",
              "          dataTable['output_type'] = 'display_data';\n",
              "          await google.colab.output.renderOutput(dataTable, element);\n",
              "          const docLink = document.createElement('div');\n",
              "          docLink.innerHTML = docLinkHtml;\n",
              "          element.appendChild(docLink);\n",
              "        }\n",
              "      </script>\n",
              "    </div>\n",
              "  </div>\n",
              "  "
            ]
          },
          "metadata": {},
          "execution_count": 2
        }
      ]
    },
    {
      "cell_type": "code",
      "source": [
        "tracks.shape"
      ],
      "metadata": {
        "colab": {
          "base_uri": "https://localhost:8080/"
        },
        "id": "eQfkrlxyNDmA",
        "outputId": "6f94bb1d-effb-44c5-e4ec-7b6891940b39"
      },
      "execution_count": null,
      "outputs": [
        {
          "output_type": "execute_result",
          "data": {
            "text/plain": [
              "(2261616, 17)"
            ]
          },
          "metadata": {},
          "execution_count": 3
        }
      ]
    },
    {
      "cell_type": "markdown",
      "source": [
        "Distribuição da duração das músicas"
      ],
      "metadata": {
        "id": "QYsJQql9A-d_"
      }
    },
    {
      "cell_type": "code",
      "source": [
        "sns.distplot(x=tracks['duration_ms']/60000, bins=100, kde=False)"
      ],
      "metadata": {
        "colab": {
          "base_uri": "https://localhost:8080/",
          "height": 348
        },
        "id": "NX3Of_1v6k-X",
        "outputId": "4986c4d6-78f6-40a4-d214-9d0ab02b4ae2"
      },
      "execution_count": null,
      "outputs": [
        {
          "output_type": "stream",
          "name": "stderr",
          "text": [
            "/usr/local/lib/python3.7/dist-packages/seaborn/distributions.py:2619: FutureWarning: `distplot` is a deprecated function and will be removed in a future version. Please adapt your code to use either `displot` (a figure-level function with similar flexibility) or `histplot` (an axes-level function for histograms).\n",
            "  warnings.warn(msg, FutureWarning)\n"
          ]
        },
        {
          "output_type": "execute_result",
          "data": {
            "text/plain": [
              "<matplotlib.axes._subplots.AxesSubplot at 0x7fcd9b4f7050>"
            ]
          },
          "metadata": {},
          "execution_count": 3
        },
        {
          "output_type": "display_data",
          "data": {
            "text/plain": [
              "<Figure size 432x288 with 1 Axes>"
            ],
            "image/png": "[encoded data removed]"
          },
          "metadata": {
            "needs_background": "light"
          }
        }
      ]
    },
    {
      "cell_type": "code",
      "source": [
        "sns.distplot(x=tracks.query('duration_ms<500000')['duration_ms']/60000, bins=100, kde=False)"
      ],
      "metadata": {
        "colab": {
          "base_uri": "https://localhost:8080/",
          "height": 337
        },
        "id": "543hE-Bv6lEx",
        "outputId": "ed6982a9-f762-4baf-9836-4276a5b65d19"
      },
      "execution_count": null,
      "outputs": [
        {
          "output_type": "stream",
          "name": "stderr",
          "text": [
            "/usr/local/lib/python3.7/dist-packages/seaborn/distributions.py:2619: FutureWarning: `distplot` is a deprecated function and will be removed in a future version. Please adapt your code to use either `displot` (a figure-level function with similar flexibility) or `histplot` (an axes-level function for histograms).\n",
            "  warnings.warn(msg, FutureWarning)\n"
          ]
        },
        {
          "output_type": "execute_result",
          "data": {
            "text/plain": [
              "<matplotlib.axes._subplots.AxesSubplot at 0x7fcd89ca6a90>"
            ]
          },
          "metadata": {},
          "execution_count": 4
        },
        {
          "output_type": "display_data",
          "data": {
            "text/plain": [
              "<Figure size 432x288 with 1 Axes>"
            ],
            "image/png": "[encoded data removed]"
          },
          "metadata": {
            "needs_background": "light"
          }
        }
      ]
    },
    {
      "cell_type": "markdown",
      "source": [
        "Número de músicas explicitas"
      ],
      "metadata": {
        "id": "8Sh_1SLeDNgR"
      }
    },
    {
      "cell_type": "code",
      "source": [
        "tracks['explicit'].value_counts()"
      ],
      "metadata": {
        "colab": {
          "base_uri": "https://localhost:8080/"
        },
        "id": "Xzcvb-SX6lI6",
        "outputId": "b26ca67b-7263-4c97-f36d-3b0f5bd4b329"
      },
      "execution_count": null,
      "outputs": [
        {
          "output_type": "execute_result",
          "data": {
            "text/plain": [
              "f    2070435\n",
              "t     191181\n",
              "Name: explicit, dtype: int64"
            ]
          },
          "metadata": {},
          "execution_count": 5
        }
      ]
    },
    {
      "cell_type": "code",
      "source": [
        "sns.histplot(tracks['explicit'])"
      ],
      "metadata": {
        "colab": {
          "base_uri": "https://localhost:8080/",
          "height": 307
        },
        "id": "Dxg1RbfjCTvN",
        "outputId": "d8ce5d25-38d2-4bc7-e958-2d912dbd3b1d"
      },
      "execution_count": null,
      "outputs": [
        {
          "output_type": "execute_result",
          "data": {
            "text/plain": [
              "<matplotlib.axes._subplots.AxesSubplot at 0x7fcd76cf7150>"
            ]
          },
          "metadata": {},
          "execution_count": 6
        },
        {
          "output_type": "display_data",
          "data": {
            "text/plain": [
              "<Figure size 432x288 with 1 Axes>"
            ],
            "image/png": "[encoded data removed]"
          },
          "metadata": {
            "needs_background": "light"
          }
        }
      ]
    },
    {
      "cell_type": "markdown",
      "source": [
        "Popularidade"
      ],
      "metadata": {
        "id": "_kdI_Lh8D-wj"
      }
    },
    {
      "cell_type": "code",
      "source": [
        "sns.distplot(x=tracks['popularity'], kde=False)"
      ],
      "metadata": {
        "colab": {
          "base_uri": "https://localhost:8080/",
          "height": 348
        },
        "id": "Di_4ho876lKy",
        "outputId": "ea1a326a-f0ed-4540-c1e8-e231e10caed1"
      },
      "execution_count": null,
      "outputs": [
        {
          "output_type": "stream",
          "name": "stderr",
          "text": [
            "/usr/local/lib/python3.7/dist-packages/seaborn/distributions.py:2619: FutureWarning: `distplot` is a deprecated function and will be removed in a future version. Please adapt your code to use either `displot` (a figure-level function with similar flexibility) or `histplot` (an axes-level function for histograms).\n",
            "  warnings.warn(msg, FutureWarning)\n"
          ]
        },
        {
          "output_type": "execute_result",
          "data": {
            "text/plain": [
              "<matplotlib.axes._subplots.AxesSubplot at 0x7fcd76c99990>"
            ]
          },
          "metadata": {},
          "execution_count": 7
        },
        {
          "output_type": "display_data",
          "data": {
            "text/plain": [
              "<Figure size 432x288 with 1 Axes>"
            ],
            "image/png": "[encoded data removed]"
          },
          "metadata": {
            "needs_background": "light"
          }
        }
      ]
    },
    {
      "cell_type": "markdown",
      "source": [
        "Acústica"
      ],
      "metadata": {
        "id": "1AeggZH9EK3c"
      }
    },
    {
      "cell_type": "code",
      "source": [
        "sns.distplot(x=tracks['acousticness'], kde=False)"
      ],
      "metadata": {
        "colab": {
          "base_uri": "https://localhost:8080/",
          "height": 337
        },
        "id": "bGKnvJd86lNC",
        "outputId": "c3eedcef-dcaa-4853-972f-82699b9ef816"
      },
      "execution_count": null,
      "outputs": [
        {
          "output_type": "stream",
          "name": "stderr",
          "text": [
            "/usr/local/lib/python3.7/dist-packages/seaborn/distributions.py:2619: FutureWarning: `distplot` is a deprecated function and will be removed in a future version. Please adapt your code to use either `displot` (a figure-level function with similar flexibility) or `histplot` (an axes-level function for histograms).\n",
            "  warnings.warn(msg, FutureWarning)\n"
          ]
        },
        {
          "output_type": "execute_result",
          "data": {
            "text/plain": [
              "<matplotlib.axes._subplots.AxesSubplot at 0x7fcd76b30cd0>"
            ]
          },
          "metadata": {},
          "execution_count": 8
        },
        {
          "output_type": "display_data",
          "data": {
            "text/plain": [
              "<Figure size 432x288 with 1 Axes>"
            ],
            "image/png": "[encoded data removed]"
          },
          "metadata": {
            "needs_background": "light"
          }
        }
      ]
    },
    {
      "cell_type": "markdown",
      "source": [
        "Dançabilidade"
      ],
      "metadata": {
        "id": "Goj-KlzuEarq"
      }
    },
    {
      "cell_type": "code",
      "source": [
        "sns.distplot(x=tracks['danceability'], kde=False)"
      ],
      "metadata": {
        "colab": {
          "base_uri": "https://localhost:8080/",
          "height": 337
        },
        "id": "q1Ly6b5U6lO_",
        "outputId": "20ed16fb-4111-48e4-c49e-99a67a2a6063"
      },
      "execution_count": null,
      "outputs": [
        {
          "output_type": "stream",
          "name": "stderr",
          "text": [
            "/usr/local/lib/python3.7/dist-packages/seaborn/distributions.py:2619: FutureWarning: `distplot` is a deprecated function and will be removed in a future version. Please adapt your code to use either `displot` (a figure-level function with similar flexibility) or `histplot` (an axes-level function for histograms).\n",
            "  warnings.warn(msg, FutureWarning)\n"
          ]
        },
        {
          "output_type": "execute_result",
          "data": {
            "text/plain": [
              "<matplotlib.axes._subplots.AxesSubplot at 0x7fcd76a2c050>"
            ]
          },
          "metadata": {},
          "execution_count": 9
        },
        {
          "output_type": "display_data",
          "data": {
            "text/plain": [
              "<Figure size 432x288 with 1 Axes>"
            ],
            "image/png": "[encoded data removed]"
          },
          "metadata": {
            "needs_background": "light"
          }
        }
      ]
    },
    {
      "cell_type": "markdown",
      "source": [
        "Energia"
      ],
      "metadata": {
        "id": "PFPu4lFCFdUm"
      }
    },
    {
      "cell_type": "code",
      "source": [
        "sns.distplot(x=tracks['energy'], kde=False)"
      ],
      "metadata": {
        "colab": {
          "base_uri": "https://localhost:8080/",
          "height": 337
        },
        "id": "0eTRKRve6lRN",
        "outputId": "e693f2c6-6569-47ba-bbcb-f269b8ebb401"
      },
      "execution_count": null,
      "outputs": [
        {
          "output_type": "stream",
          "name": "stderr",
          "text": [
            "/usr/local/lib/python3.7/dist-packages/seaborn/distributions.py:2619: FutureWarning: `distplot` is a deprecated function and will be removed in a future version. Please adapt your code to use either `displot` (a figure-level function with similar flexibility) or `histplot` (an axes-level function for histograms).\n",
            "  warnings.warn(msg, FutureWarning)\n"
          ]
        },
        {
          "output_type": "execute_result",
          "data": {
            "text/plain": [
              "<matplotlib.axes._subplots.AxesSubplot at 0x7fcd7692edd0>"
            ]
          },
          "metadata": {},
          "execution_count": 10
        },
        {
          "output_type": "display_data",
          "data": {
            "text/plain": [
              "<Figure size 432x288 with 1 Axes>"
            ],
            "image/png": "[encoded data removed]"
          },
          "metadata": {
            "needs_background": "light"
          }
        }
      ]
    },
    {
      "cell_type": "markdown",
      "source": [
        "Instrumentabilidade"
      ],
      "metadata": {
        "id": "VBPtV8jRFwmx"
      }
    },
    {
      "cell_type": "code",
      "source": [
        "sns.distplot(x=tracks['instrumentalness'], kde=False)"
      ],
      "metadata": {
        "colab": {
          "base_uri": "https://localhost:8080/",
          "height": 348
        },
        "id": "7yy6YNqF6lTQ",
        "outputId": "e75038f1-4e6d-458b-cd45-f2b5bd9fc2c6"
      },
      "execution_count": null,
      "outputs": [
        {
          "output_type": "stream",
          "name": "stderr",
          "text": [
            "/usr/local/lib/python3.7/dist-packages/seaborn/distributions.py:2619: FutureWarning: `distplot` is a deprecated function and will be removed in a future version. Please adapt your code to use either `displot` (a figure-level function with similar flexibility) or `histplot` (an axes-level function for histograms).\n",
            "  warnings.warn(msg, FutureWarning)\n"
          ]
        },
        {
          "output_type": "execute_result",
          "data": {
            "text/plain": [
              "<matplotlib.axes._subplots.AxesSubplot at 0x7fcd76899a90>"
            ]
          },
          "metadata": {},
          "execution_count": 11
        },
        {
          "output_type": "display_data",
          "data": {
            "text/plain": [
              "<Figure size 432x288 with 1 Axes>"
            ],
            "image/png": "[encoded data removed]"
          },
          "metadata": {
            "needs_background": "light"
          }
        }
      ]
    },
    {
      "cell_type": "markdown",
      "source": [
        "Tom"
      ],
      "metadata": {
        "id": "w0uJDXgdGE8M"
      }
    },
    {
      "cell_type": "code",
      "source": [
        "sns.distplot(x=tracks['key'], kde=False)"
      ],
      "metadata": {
        "colab": {
          "base_uri": "https://localhost:8080/",
          "height": 337
        },
        "id": "Bz5AI3sG6lVU",
        "outputId": "24bb9c5a-e285-4205-e439-16021cd12cfb"
      },
      "execution_count": null,
      "outputs": [
        {
          "output_type": "stream",
          "name": "stderr",
          "text": [
            "/usr/local/lib/python3.7/dist-packages/seaborn/distributions.py:2619: FutureWarning: `distplot` is a deprecated function and will be removed in a future version. Please adapt your code to use either `displot` (a figure-level function with similar flexibility) or `histplot` (an axes-level function for histograms).\n",
            "  warnings.warn(msg, FutureWarning)\n"
          ]
        },
        {
          "output_type": "execute_result",
          "data": {
            "text/plain": [
              "<matplotlib.axes._subplots.AxesSubplot at 0x7fcd76723550>"
            ]
          },
          "metadata": {},
          "execution_count": 12
        },
        {
          "output_type": "display_data",
          "data": {
            "text/plain": [
              "<Figure size 432x288 with 1 Axes>"
            ],
            "image/png": "[encoded data removed]"
          },
          "metadata": {
            "needs_background": "light"
          }
        }
      ]
    },
    {
      "cell_type": "markdown",
      "source": [
        "Ao Vivo"
      ],
      "metadata": {
        "id": "mDQsIQ3PGWkQ"
      }
    },
    {
      "cell_type": "code",
      "source": [
        "sns.distplot(x=tracks['liveness'], kde=False)"
      ],
      "metadata": {
        "colab": {
          "base_uri": "https://localhost:8080/",
          "height": 337
        },
        "id": "WQ1HNLvi6lXc",
        "outputId": "fc9d6da6-86fe-4e3d-d41b-97ee000f89ce"
      },
      "execution_count": null,
      "outputs": [
        {
          "output_type": "stream",
          "name": "stderr",
          "text": [
            "/usr/local/lib/python3.7/dist-packages/seaborn/distributions.py:2619: FutureWarning: `distplot` is a deprecated function and will be removed in a future version. Please adapt your code to use either `displot` (a figure-level function with similar flexibility) or `histplot` (an axes-level function for histograms).\n",
            "  warnings.warn(msg, FutureWarning)\n"
          ]
        },
        {
          "output_type": "execute_result",
          "data": {
            "text/plain": [
              "<matplotlib.axes._subplots.AxesSubplot at 0x7fcd76824850>"
            ]
          },
          "metadata": {},
          "execution_count": 13
        },
        {
          "output_type": "display_data",
          "data": {
            "text/plain": [
              "<Figure size 432x288 with 1 Axes>"
            ],
            "image/png": "[encoded data removed]"
          },
          "metadata": {
            "needs_background": "light"
          }
        }
      ]
    },
    {
      "cell_type": "markdown",
      "source": [
        "Barulho"
      ],
      "metadata": {
        "id": "RkilWvKzG3Gw"
      }
    },
    {
      "cell_type": "code",
      "source": [
        "sns.distplot(x=tracks['loudness'], kde=False)"
      ],
      "metadata": {
        "colab": {
          "base_uri": "https://localhost:8080/",
          "height": 337
        },
        "id": "fCjC9bs06lZk",
        "outputId": "7ece3157-192c-45b8-d0ae-9699209bb011"
      },
      "execution_count": null,
      "outputs": [
        {
          "output_type": "stream",
          "name": "stderr",
          "text": [
            "/usr/local/lib/python3.7/dist-packages/seaborn/distributions.py:2619: FutureWarning: `distplot` is a deprecated function and will be removed in a future version. Please adapt your code to use either `displot` (a figure-level function with similar flexibility) or `histplot` (an axes-level function for histograms).\n",
            "  warnings.warn(msg, FutureWarning)\n"
          ]
        },
        {
          "output_type": "execute_result",
          "data": {
            "text/plain": [
              "<matplotlib.axes._subplots.AxesSubplot at 0x7fcd7652fdd0>"
            ]
          },
          "metadata": {},
          "execution_count": 14
        },
        {
          "output_type": "display_data",
          "data": {
            "text/plain": [
              "<Figure size 432x288 with 1 Axes>"
            ],
            "image/png": "[encoded data removed]"
          },
          "metadata": {
            "needs_background": "light"
          }
        }
      ]
    },
    {
      "cell_type": "markdown",
      "source": [
        "Modo"
      ],
      "metadata": {
        "id": "ZiCWakzrHP0x"
      }
    },
    {
      "cell_type": "code",
      "source": [
        "sns.histplot(tracks['mode'])"
      ],
      "metadata": {
        "colab": {
          "base_uri": "https://localhost:8080/",
          "height": 307
        },
        "id": "WajWFPEZ6lby",
        "outputId": "91dfa47a-da4f-4e56-a8ee-c731faa0600a"
      },
      "execution_count": null,
      "outputs": [
        {
          "output_type": "execute_result",
          "data": {
            "text/plain": [
              "<matplotlib.axes._subplots.AxesSubplot at 0x7fcd7654e550>"
            ]
          },
          "metadata": {},
          "execution_count": 15
        },
        {
          "output_type": "display_data",
          "data": {
            "text/plain": [
              "<Figure size 432x288 with 1 Axes>"
            ],
            "image/png": "[encoded data removed]"
          },
          "metadata": {
            "needs_background": "light"
          }
        }
      ]
    },
    {
      "cell_type": "markdown",
      "source": [
        "Fala"
      ],
      "metadata": {
        "id": "jTKs_WWFHltE"
      }
    },
    {
      "cell_type": "code",
      "source": [
        "sns.distplot(x=tracks['speechiness'], kde=False)"
      ],
      "metadata": {
        "colab": {
          "base_uri": "https://localhost:8080/",
          "height": 340
        },
        "id": "_IxL60R56lgV",
        "outputId": "bc5ae52e-e509-4133-da7d-904c42c7a2bc"
      },
      "execution_count": null,
      "outputs": [
        {
          "output_type": "stream",
          "name": "stderr",
          "text": [
            "/usr/local/lib/python3.7/dist-packages/seaborn/distributions.py:2619: FutureWarning: `distplot` is a deprecated function and will be removed in a future version. Please adapt your code to use either `displot` (a figure-level function with similar flexibility) or `histplot` (an axes-level function for histograms).\n",
            "  warnings.warn(msg, FutureWarning)\n"
          ]
        },
        {
          "output_type": "execute_result",
          "data": {
            "text/plain": [
              "<matplotlib.axes._subplots.AxesSubplot at 0x7fcd7648d850>"
            ]
          },
          "metadata": {},
          "execution_count": 16
        },
        {
          "output_type": "display_data",
          "data": {
            "text/plain": [
              "<Figure size 432x288 with 1 Axes>"
            ],
            "image/png": "[encoded data removed]"
          },
          "metadata": {
            "needs_background": "light"
          }
        }
      ]
    },
    {
      "cell_type": "markdown",
      "source": [
        "Batidas por Minuto"
      ],
      "metadata": {
        "id": "02O6nv-JHw0k"
      }
    },
    {
      "cell_type": "code",
      "source": [
        "sns.distplot(x=tracks['tempo'], kde=False)"
      ],
      "metadata": {
        "colab": {
          "base_uri": "https://localhost:8080/",
          "height": 337
        },
        "id": "ZI7k--o56lim",
        "outputId": "88042401-4cd6-4129-f9a0-68b9309264cf"
      },
      "execution_count": null,
      "outputs": [
        {
          "output_type": "stream",
          "name": "stderr",
          "text": [
            "/usr/local/lib/python3.7/dist-packages/seaborn/distributions.py:2619: FutureWarning: `distplot` is a deprecated function and will be removed in a future version. Please adapt your code to use either `displot` (a figure-level function with similar flexibility) or `histplot` (an axes-level function for histograms).\n",
            "  warnings.warn(msg, FutureWarning)\n"
          ]
        },
        {
          "output_type": "execute_result",
          "data": {
            "text/plain": [
              "<matplotlib.axes._subplots.AxesSubplot at 0x7fcd7634f5d0>"
            ]
          },
          "metadata": {},
          "execution_count": 17
        },
        {
          "output_type": "display_data",
          "data": {
            "text/plain": [
              "<Figure size 432x288 with 1 Axes>"
            ],
            "image/png": "[encoded data removed]"
          },
          "metadata": {
            "needs_background": "light"
          }
        }
      ]
    },
    {
      "cell_type": "code",
      "source": [
        "sns.distplot(x=tracks['time_signature'], kde=False)"
      ],
      "metadata": {
        "colab": {
          "base_uri": "https://localhost:8080/",
          "height": 348
        },
        "id": "T4nNhZ1KHoNT",
        "outputId": "63f9ad62-a992-4c71-a913-2647a9e92003"
      },
      "execution_count": null,
      "outputs": [
        {
          "output_type": "stream",
          "name": "stderr",
          "text": [
            "/usr/local/lib/python3.7/dist-packages/seaborn/distributions.py:2619: FutureWarning: `distplot` is a deprecated function and will be removed in a future version. Please adapt your code to use either `displot` (a figure-level function with similar flexibility) or `histplot` (an axes-level function for histograms).\n",
            "  warnings.warn(msg, FutureWarning)\n"
          ]
        },
        {
          "output_type": "execute_result",
          "data": {
            "text/plain": [
              "<matplotlib.axes._subplots.AxesSubplot at 0x7fcd76251d10>"
            ]
          },
          "metadata": {},
          "execution_count": 18
        },
        {
          "output_type": "display_data",
          "data": {
            "text/plain": [
              "<Figure size 432x288 with 1 Axes>"
            ],
            "image/png": "[encoded data removed]"
          },
          "metadata": {
            "needs_background": "light"
          }
        }
      ]
    },
    {
      "cell_type": "code",
      "source": [
        "tracks.describe()"
      ],
      "metadata": {
        "colab": {
          "base_uri": "https://localhost:8080/",
          "height": 364
        },
        "id": "ft_6TR0MHoR4",
        "outputId": "e8a5bb2e-d50f-41e0-84e3-b2a6f3b42562"
      },
      "execution_count": null,
      "outputs": [
        {
          "output_type": "execute_result",
          "data": {
            "text/plain": [
              "        duration_ms    popularity  acousticness  danceability        energy  \\\n",
              "count  2.261616e+06  2.261616e+06  2.261616e+06  2.261616e+06  2.261616e+06   \n",
              "mean   2.473074e+05  8.821330e+00  3.547122e-01  5.504348e-01  5.849078e-01   \n",
              "std    1.580871e+05  1.270568e+01  3.543688e-01  1.845284e-01  2.660109e-01   \n",
              "min    0.000000e+00  0.000000e+00  0.000000e+00  0.000000e+00  0.000000e+00   \n",
              "25%    1.842030e+05  0.000000e+00  2.220000e-02  4.270000e-01  3.890000e-01   \n",
              "50%    2.252300e+05  2.000000e+00  2.150000e-01  5.650000e-01  6.220000e-01   \n",
              "75%    2.782412e+05  1.400000e+01  6.910000e-01  6.890000e-01  8.090000e-01   \n",
              "max    2.015906e+07  8.900000e+01  9.960000e-01  9.960000e-01  1.000000e+00   \n",
              "\n",
              "       instrumentalness           key      liveness      loudness  \\\n",
              "count      2.261616e+06  2.261616e+06  2.261616e+06  2.261616e+06   \n",
              "mean       2.208303e-01  5.261542e+00  2.091089e-01 -9.659827e+00   \n",
              "std        3.494136e-01  3.558962e+00  1.898145e-01  5.624235e+00   \n",
              "min        0.000000e+00  0.000000e+00  0.000000e+00 -6.000000e+01   \n",
              "25%        0.000000e+00  2.000000e+00  9.570000e-02 -1.190900e+01   \n",
              "50%        6.020000e-04  5.000000e+00  1.280000e-01 -8.175000e+00   \n",
              "75%        4.210000e-01  8.000000e+00  2.640000e-01 -5.826000e+00   \n",
              "max        1.000000e+00  1.100000e+01  1.000000e+00  4.923000e+00   \n",
              "\n",
              "               mode   speechiness         tempo  time_signature  \n",
              "count  2.261616e+06  2.261616e+06  2.261616e+06    2.261616e+06  \n",
              "mean   6.549538e-01  8.923554e-02  1.199907e+02    3.879942e+00  \n",
              "std    4.753834e-01  1.152106e-01  2.991865e+01    4.719100e-01  \n",
              "min    0.000000e+00  0.000000e+00  0.000000e+00    0.000000e+00  \n",
              "25%    0.000000e+00  3.540000e-02  9.694100e+01    4.000000e+00  \n",
              "50%    1.000000e+00  4.700000e-02  1.200070e+02    4.000000e+00  \n",
              "75%    1.000000e+00  8.380000e-02  1.380530e+02    4.000000e+00  \n",
              "max    1.000000e+00  9.710000e-01  2.499870e+02    5.000000e+00  "
            ],
            "text/html": [
              "\n",
              "  <div id=\"df-ce920fac-275f-4ffe-85d7-0761580a3178\">\n",
              "    <div class=\"colab-df-container\">\n",
              "      <div>\n",
              "<style scoped>\n",
              "    .dataframe tbody tr th:only-of-type {\n",
              "        vertical-align: middle;\n",
              "    }\n",
              "\n",
              "    .dataframe tbody tr th {\n",
              "        vertical-align: top;\n",
              "    }\n",
              "\n",
              "    .dataframe thead th {\n",
              "        text-align: right;\n",
              "    }\n",
              "</style>\n",
              "<table border=\"1\" class=\"dataframe\">\n",
              "  <thead>\n",
              "    <tr style=\"text-align: right;\">\n",
              "      <th></th>\n",
              "      <th>duration_ms</th>\n",
              "      <th>popularity</th>\n",
              "      <th>acousticness</th>\n",
              "      <th>danceability</th>\n",
              "      <th>energy</th>\n",
              "      <th>instrumentalness</th>\n",
              "      <th>key</th>\n",
              "      <th>liveness</th>\n",
              "      <th>loudness</th>\n",
              "      <th>mode</th>\n",
              "      <th>speechiness</th>\n",
              "      <th>tempo</th>\n",
              "      <th>time_signature</th>\n",
              "    </tr>\n",
              "  </thead>\n",
              "  <tbody>\n",
              "    <tr>\n",
              "      <th>count</th>\n",
              "      <td>2.261616e+06</td>\n",
              "      <td>2.261616e+06</td>\n",
              "      <td>2.261616e+06</td>\n",
              "      <td>2.261616e+06</td>\n",
              "      <td>2.261616e+06</td>\n",
              "      <td>2.261616e+06</td>\n",
              "      <td>2.261616e+06</td>\n",
              "      <td>2.261616e+06</td>\n",
              "      <td>2.261616e+06</td>\n",
              "      <td>2.261616e+06</td>\n",
              "      <td>2.261616e+06</td>\n",
              "      <td>2.261616e+06</td>\n",
              "      <td>2.261616e+06</td>\n",
              "    </tr>\n",
              "    <tr>\n",
              "      <th>mean</th>\n",
              "      <td>2.473074e+05</td>\n",
              "      <td>8.821330e+00</td>\n",
              "      <td>3.547122e-01</td>\n",
              "      <td>5.504348e-01</td>\n",
              "      <td>5.849078e-01</td>\n",
              "      <td>2.208303e-01</td>\n",
              "      <td>5.261542e+00</td>\n",
              "      <td>2.091089e-01</td>\n",
              "      <td>-9.659827e+00</td>\n",
              "      <td>6.549538e-01</td>\n",
              "      <td>8.923554e-02</td>\n",
              "      <td>1.199907e+02</td>\n",
              "      <td>3.879942e+00</td>\n",
              "    </tr>\n",
              "    <tr>\n",
              "      <th>std</th>\n",
              "      <td>1.580871e+05</td>\n",
              "      <td>1.270568e+01</td>\n",
              "      <td>3.543688e-01</td>\n",
              "      <td>1.845284e-01</td>\n",
              "      <td>2.660109e-01</td>\n",
              "      <td>3.494136e-01</td>\n",
              "      <td>3.558962e+00</td>\n",
              "      <td>1.898145e-01</td>\n",
              "      <td>5.624235e+00</td>\n",
              "      <td>4.753834e-01</td>\n",
              "      <td>1.152106e-01</td>\n",
              "      <td>2.991865e+01</td>\n",
              "      <td>4.719100e-01</td>\n",
              "    </tr>\n",
              "    <tr>\n",
              "      <th>min</th>\n",
              "      <td>0.000000e+00</td>\n",
              "      <td>0.000000e+00</td>\n",
              "      <td>0.000000e+00</td>\n",
              "      <td>0.000000e+00</td>\n",
              "      <td>0.000000e+00</td>\n",
              "      <td>0.000000e+00</td>\n",
              "      <td>0.000000e+00</td>\n",
              "      <td>0.000000e+00</td>\n",
              "      <td>-6.000000e+01</td>\n",
              "      <td>0.000000e+00</td>\n",
              "      <td>0.000000e+00</td>\n",
              "      <td>0.000000e+00</td>\n",
              "      <td>0.000000e+00</td>\n",
              "    </tr>\n",
              "    <tr>\n",
              "      <th>25%</th>\n",
              "      <td>1.842030e+05</td>\n",
              "      <td>0.000000e+00</td>\n",
              "      <td>2.220000e-02</td>\n",
              "      <td>4.270000e-01</td>\n",
              "      <td>3.890000e-01</td>\n",
              "      <td>0.000000e+00</td>\n",
              "      <td>2.000000e+00</td>\n",
              "      <td>9.570000e-02</td>\n",
              "      <td>-1.190900e+01</td>\n",
              "      <td>0.000000e+00</td>\n",
              "      <td>3.540000e-02</td>\n",
              "      <td>9.694100e+01</td>\n",
              "      <td>4.000000e+00</td>\n",
              "    </tr>\n",
              "    <tr>\n",
              "      <th>50%</th>\n",
              "      <td>2.252300e+05</td>\n",
              "      <td>2.000000e+00</td>\n",
              "      <td>2.150000e-01</td>\n",
              "      <td>5.650000e-01</td>\n",
              "      <td>6.220000e-01</td>\n",
              "      <td>6.020000e-04</td>\n",
              "      <td>5.000000e+00</td>\n",
              "      <td>1.280000e-01</td>\n",
              "      <td>-8.175000e+00</td>\n",
              "      <td>1.000000e+00</td>\n",
              "      <td>4.700000e-02</td>\n",
              "      <td>1.200070e+02</td>\n",
              "      <td>4.000000e+00</td>\n",
              "    </tr>\n",
              "    <tr>\n",
              "      <th>75%</th>\n",
              "      <td>2.782412e+05</td>\n",
              "      <td>1.400000e+01</td>\n",
              "      <td>6.910000e-01</td>\n",
              "      <td>6.890000e-01</td>\n",
              "      <td>8.090000e-01</td>\n",
              "      <td>4.210000e-01</td>\n",
              "      <td>8.000000e+00</td>\n",
              "      <td>2.640000e-01</td>\n",
              "      <td>-5.826000e+00</td>\n",
              "      <td>1.000000e+00</td>\n",
              "      <td>8.380000e-02</td>\n",
              "      <td>1.380530e+02</td>\n",
              "      <td>4.000000e+00</td>\n",
              "    </tr>\n",
              "    <tr>\n",
              "      <th>max</th>\n",
              "      <td>2.015906e+07</td>\n",
              "      <td>8.900000e+01</td>\n",
              "      <td>9.960000e-01</td>\n",
              "      <td>9.960000e-01</td>\n",
              "      <td>1.000000e+00</td>\n",
              "      <td>1.000000e+00</td>\n",
              "      <td>1.100000e+01</td>\n",
              "      <td>1.000000e+00</td>\n",
              "      <td>4.923000e+00</td>\n",
              "      <td>1.000000e+00</td>\n",
              "      <td>9.710000e-01</td>\n",
              "      <td>2.499870e+02</td>\n",
              "      <td>5.000000e+00</td>\n",
              "    </tr>\n",
              "  </tbody>\n",
              "</table>\n",
              "</div>\n",
              "      <button class=\"colab-df-convert\" onclick=\"convertToInteractive('df-ce920fac-275f-4ffe-85d7-0761580a3178')\"\n",
              "              title=\"Convert this dataframe to an interactive table.\"\n",
              "              style=\"display:none;\">\n",
              "        \n",
              "  <svg xmlns=\"http://www.w3.org/2000/svg\" height=\"24px\"viewBox=\"0 0 24 24\"\n",
              "       width=\"24px\">\n",
              "    <path d=\"M0 0h24v24H0V0z\" fill=\"none\"/>\n",
              "    <path d=\"M18.56 5.44l.94 2.06.94-2.06 2.06-.94-2.06-.94-.94-2.06-.94 2.06-2.06.94zm-11 1L8.5 8.5l.94-2.06 2.06-.94-2.06-.94L8.5 2.5l-.94 2.06-2.06.94zm10 10l.94 2.06.94-2.06 2.06-.94-2.06-.94-.94-2.06-.94 2.06-2.06.94z\"/><path d=\"M17.41 7.96l-1.37-1.37c-.4-.4-.92-.59-1.43-.59-.52 0-1.04.2-1.43.59L10.3 9.45l-7.72 7.72c-.78.78-.78 2.05 0 2.83L4 21.41c.39.39.9.59 1.41.59.51 0 1.02-.2 1.41-.59l7.78-7.78 2.81-2.81c.8-.78.8-2.07 0-2.86zM5.41 20L4 18.59l7.72-7.72 1.47 1.35L5.41 20z\"/>\n",
              "  </svg>\n",
              "      </button>\n",
              "      \n",
              "  <style>\n",
              "    .colab-df-container {\n",
              "      display:flex;\n",
              "      flex-wrap:wrap;\n",
              "      gap: 12px;\n",
              "    }\n",
              "\n",
              "    .colab-df-convert {\n",
              "      background-color: #E8F0FE;\n",
              "      border: none;\n",
              "      border-radius: 50%;\n",
              "      cursor: pointer;\n",
              "      display: none;\n",
              "      fill: #1967D2;\n",
              "      height: 32px;\n",
              "      padding: 0 0 0 0;\n",
              "      width: 32px;\n",
              "    }\n",
              "\n",
              "    .colab-df-convert:hover {\n",
              "      background-color: #E2EBFA;\n",
              "      box-shadow: 0px 1px 2px rgba(60, 64, 67, 0.3), 0px 1px 3px 1px rgba(60, 64, 67, 0.15);\n",
              "      fill: #174EA6;\n",
              "    }\n",
              "\n",
              "    [theme=dark] .colab-df-convert {\n",
              "      background-color: #3B4455;\n",
              "      fill: #D2E3FC;\n",
              "    }\n",
              "\n",
              "    [theme=dark] .colab-df-convert:hover {\n",
              "      background-color: #434B5C;\n",
              "      box-shadow: 0px 1px 3px 1px rgba(0, 0, 0, 0.15);\n",
              "      filter: drop-shadow(0px 1px 2px rgba(0, 0, 0, 0.3));\n",
              "      fill: #FFFFFF;\n",
              "    }\n",
              "  </style>\n",
              "\n",
              "      <script>\n",
              "        const buttonEl =\n",
              "          document.querySelector('#df-ce920fac-275f-4ffe-85d7-0761580a3178 button.colab-df-convert');\n",
              "        buttonEl.style.display =\n",
              "          google.colab.kernel.accessAllowed ? 'block' : 'none';\n",
              "\n",
              "        async function convertToInteractive(key) {\n",
              "          const element = document.querySelector('#df-ce920fac-275f-4ffe-85d7-0761580a3178');\n",
              "          const dataTable =\n",
              "            await google.colab.kernel.invokeFunction('convertToInteractive',\n",
              "                                                     [key], {});\n",
              "          if (!dataTable) return;\n",
              "\n",
              "          const docLinkHtml = 'Like what you see? Visit the ' +\n",
              "            '<a target=\"_blank\" href=https://colab.research.google.com/notebooks/data_table.ipynb>data table notebook</a>'\n",
              "            + ' to learn more about interactive tables.';\n",
              "          element.innerHTML = '';\n",
              "          dataTable['output_type'] = 'display_data';\n",
              "          await google.colab.output.renderOutput(dataTable, element);\n",
              "          const docLink = document.createElement('div');\n",
              "          docLink.innerHTML = docLinkHtml;\n",
              "          element.appendChild(docLink);\n",
              "        }\n",
              "      </script>\n",
              "    </div>\n",
              "  </div>\n",
              "  "
            ]
          },
          "metadata": {},
          "execution_count": 19
        }
      ]
    },
    {
      "cell_type": "code",
      "source": [
        "tracks.corr()"
      ],
      "metadata": {
        "colab": {
          "base_uri": "https://localhost:8080/",
          "height": 521
        },
        "id": "E51jRlU5HoT7",
        "outputId": "91eb923e-9585-42f5-e0f9-6e25d31ebb32"
      },
      "execution_count": null,
      "outputs": [
        {
          "output_type": "execute_result",
          "data": {
            "text/plain": [
              "                  duration_ms  popularity  acousticness  danceability  \\\n",
              "duration_ms          1.000000   -0.018045     -0.038681     -0.068054   \n",
              "popularity          -0.018045    1.000000     -0.062444      0.040809   \n",
              "acousticness        -0.038681   -0.062444      1.000000     -0.285666   \n",
              "danceability        -0.068054    0.040809     -0.285666      1.000000   \n",
              "energy              -0.007007    0.063099     -0.739522      0.252733   \n",
              "instrumentalness     0.125012   -0.114028      0.187134     -0.202916   \n",
              "key                  0.001082    0.002384     -0.037149      0.033463   \n",
              "liveness             0.023210    0.002155     -0.065708     -0.100598   \n",
              "loudness            -0.063345    0.089248     -0.613482      0.322454   \n",
              "mode                -0.035633   -0.000851      0.081664     -0.064239   \n",
              "speechiness         -0.033453   -0.024749     -0.057158      0.170121   \n",
              "tempo               -0.009919    0.014741     -0.202579     -0.001752   \n",
              "time_signature       0.020938    0.025021     -0.181075      0.197058   \n",
              "\n",
              "                    energy  instrumentalness       key  liveness  loudness  \\\n",
              "duration_ms      -0.007007          0.125012  0.001082  0.023210 -0.063345   \n",
              "popularity        0.063099         -0.114028  0.002384  0.002155  0.089248   \n",
              "acousticness     -0.739522          0.187134 -0.037149 -0.065708 -0.613482   \n",
              "danceability      0.252733         -0.202916  0.033463 -0.100598  0.322454   \n",
              "energy            1.000000         -0.227632  0.044201  0.189439  0.788601   \n",
              "instrumentalness -0.227632          1.000000 -0.012490 -0.106206 -0.401877   \n",
              "key               0.044201         -0.012490  1.000000 -0.000110  0.032168   \n",
              "liveness          0.189439         -0.106206 -0.000110  1.000000  0.097707   \n",
              "loudness          0.788601         -0.401877  0.032168  0.097707  1.000000   \n",
              "mode             -0.074012         -0.051654 -0.159793  0.010205 -0.029955   \n",
              "speechiness       0.133717         -0.153154  0.023430  0.190169  0.052756   \n",
              "tempo             0.235639         -0.048466  0.008390  0.013130  0.208503   \n",
              "time_signature    0.186932         -0.052824  0.010408  0.004274  0.170999   \n",
              "\n",
              "                      mode  speechiness     tempo  time_signature  \n",
              "duration_ms      -0.035633    -0.033453 -0.009919        0.020938  \n",
              "popularity       -0.000851    -0.024749  0.014741        0.025021  \n",
              "acousticness      0.081664    -0.057158 -0.202579       -0.181075  \n",
              "danceability     -0.064239     0.170121 -0.001752        0.197058  \n",
              "energy           -0.074012     0.133717  0.235639        0.186932  \n",
              "instrumentalness -0.051654    -0.153154 -0.048466       -0.052824  \n",
              "key              -0.159793     0.023430  0.008390        0.010408  \n",
              "liveness          0.010205     0.190169  0.013130        0.004274  \n",
              "loudness         -0.029955     0.052756  0.208503        0.170999  \n",
              "mode              1.000000    -0.051520  0.003925       -0.027639  \n",
              "speechiness      -0.051520     1.000000  0.000133        0.013874  \n",
              "tempo             0.003925     0.000133  1.000000        0.051986  \n",
              "time_signature   -0.027639     0.013874  0.051986        1.000000  "
            ],
            "text/html": [
              "\n",
              "  <div id=\"df-31ff2b89-7108-4dd1-90a3-bfd95f9c03ef\">\n",
              "    <div class=\"colab-df-container\">\n",
              "      <div>\n",
              "<style scoped>\n",
              "    .dataframe tbody tr th:only-of-type {\n",
              "        vertical-align: middle;\n",
              "    }\n",
              "\n",
              "    .dataframe tbody tr th {\n",
              "        vertical-align: top;\n",
              "    }\n",
              "\n",
              "    .dataframe thead th {\n",
              "        text-align: right;\n",
              "    }\n",
              "</style>\n",
              "<table border=\"1\" class=\"dataframe\">\n",
              "  <thead>\n",
              "    <tr style=\"text-align: right;\">\n",
              "      <th></th>\n",
              "      <th>duration_ms</th>\n",
              "      <th>popularity</th>\n",
              "      <th>acousticness</th>\n",
              "      <th>danceability</th>\n",
              "      <th>energy</th>\n",
              "      <th>instrumentalness</th>\n",
              "      <th>key</th>\n",
              "      <th>liveness</th>\n",
              "      <th>loudness</th>\n",
              "      <th>mode</th>\n",
              "      <th>speechiness</th>\n",
              "      <th>tempo</th>\n",
              "      <th>time_signature</th>\n",
              "    </tr>\n",
              "  </thead>\n",
              "  <tbody>\n",
              "    <tr>\n",
              "      <th>duration_ms</th>\n",
              "      <td>1.000000</td>\n",
              "      <td>-0.018045</td>\n",
              "      <td>-0.038681</td>\n",
              "      <td>-0.068054</td>\n",
              "      <td>-0.007007</td>\n",
              "      <td>0.125012</td>\n",
              "      <td>0.001082</td>\n",
              "      <td>0.023210</td>\n",
              "      <td>-0.063345</td>\n",
              "      <td>-0.035633</td>\n",
              "      <td>-0.033453</td>\n",
              "      <td>-0.009919</td>\n",
              "      <td>0.020938</td>\n",
              "    </tr>\n",
              "    <tr>\n",
              "      <th>popularity</th>\n",
              "      <td>-0.018045</td>\n",
              "      <td>1.000000</td>\n",
              "      <td>-0.062444</td>\n",
              "      <td>0.040809</td>\n",
              "      <td>0.063099</td>\n",
              "      <td>-0.114028</td>\n",
              "      <td>0.002384</td>\n",
              "      <td>0.002155</td>\n",
              "      <td>0.089248</td>\n",
              "      <td>-0.000851</td>\n",
              "      <td>-0.024749</td>\n",
              "      <td>0.014741</td>\n",
              "      <td>0.025021</td>\n",
              "    </tr>\n",
              "    <tr>\n",
              "      <th>acousticness</th>\n",
              "      <td>-0.038681</td>\n",
              "      <td>-0.062444</td>\n",
              "      <td>1.000000</td>\n",
              "      <td>-0.285666</td>\n",
              "      <td>-0.739522</td>\n",
              "      <td>0.187134</td>\n",
              "      <td>-0.037149</td>\n",
              "      <td>-0.065708</td>\n",
              "      <td>-0.613482</td>\n",
              "      <td>0.081664</td>\n",
              "      <td>-0.057158</td>\n",
              "      <td>-0.202579</td>\n",
              "      <td>-0.181075</td>\n",
              "    </tr>\n",
              "    <tr>\n",
              "      <th>danceability</th>\n",
              "      <td>-0.068054</td>\n",
              "      <td>0.040809</td>\n",
              "      <td>-0.285666</td>\n",
              "      <td>1.000000</td>\n",
              "      <td>0.252733</td>\n",
              "      <td>-0.202916</td>\n",
              "      <td>0.033463</td>\n",
              "      <td>-0.100598</td>\n",
              "      <td>0.322454</td>\n",
              "      <td>-0.064239</td>\n",
              "      <td>0.170121</td>\n",
              "      <td>-0.001752</td>\n",
              "      <td>0.197058</td>\n",
              "    </tr>\n",
              "    <tr>\n",
              "      <th>energy</th>\n",
              "      <td>-0.007007</td>\n",
              "      <td>0.063099</td>\n",
              "      <td>-0.739522</td>\n",
              "      <td>0.252733</td>\n",
              "      <td>1.000000</td>\n",
              "      <td>-0.227632</td>\n",
              "      <td>0.044201</td>\n",
              "      <td>0.189439</td>\n",
              "      <td>0.788601</td>\n",
              "      <td>-0.074012</td>\n",
              "      <td>0.133717</td>\n",
              "      <td>0.235639</td>\n",
              "      <td>0.186932</td>\n",
              "    </tr>\n",
              "    <tr>\n",
              "      <th>instrumentalness</th>\n",
              "      <td>0.125012</td>\n",
              "      <td>-0.114028</td>\n",
              "      <td>0.187134</td>\n",
              "      <td>-0.202916</td>\n",
              "      <td>-0.227632</td>\n",
              "      <td>1.000000</td>\n",
              "      <td>-0.012490</td>\n",
              "      <td>-0.106206</td>\n",
              "      <td>-0.401877</td>\n",
              "      <td>-0.051654</td>\n",
              "      <td>-0.153154</td>\n",
              "      <td>-0.048466</td>\n",
              "      <td>-0.052824</td>\n",
              "    </tr>\n",
              "    <tr>\n",
              "      <th>key</th>\n",
              "      <td>0.001082</td>\n",
              "      <td>0.002384</td>\n",
              "      <td>-0.037149</td>\n",
              "      <td>0.033463</td>\n",
              "      <td>0.044201</td>\n",
              "      <td>-0.012490</td>\n",
              "      <td>1.000000</td>\n",
              "      <td>-0.000110</td>\n",
              "      <td>0.032168</td>\n",
              "      <td>-0.159793</td>\n",
              "      <td>0.023430</td>\n",
              "      <td>0.008390</td>\n",
              "      <td>0.010408</td>\n",
              "    </tr>\n",
              "    <tr>\n",
              "      <th>liveness</th>\n",
              "      <td>0.023210</td>\n",
              "      <td>0.002155</td>\n",
              "      <td>-0.065708</td>\n",
              "      <td>-0.100598</td>\n",
              "      <td>0.189439</td>\n",
              "      <td>-0.106206</td>\n",
              "      <td>-0.000110</td>\n",
              "      <td>1.000000</td>\n",
              "      <td>0.097707</td>\n",
              "      <td>0.010205</td>\n",
              "      <td>0.190169</td>\n",
              "      <td>0.013130</td>\n",
              "      <td>0.004274</td>\n",
              "    </tr>\n",
              "    <tr>\n",
              "      <th>loudness</th>\n",
              "      <td>-0.063345</td>\n",
              "      <td>0.089248</td>\n",
              "      <td>-0.613482</td>\n",
              "      <td>0.322454</td>\n",
              "      <td>0.788601</td>\n",
              "      <td>-0.401877</td>\n",
              "      <td>0.032168</td>\n",
              "      <td>0.097707</td>\n",
              "      <td>1.000000</td>\n",
              "      <td>-0.029955</td>\n",
              "      <td>0.052756</td>\n",
              "      <td>0.208503</td>\n",
              "      <td>0.170999</td>\n",
              "    </tr>\n",
              "    <tr>\n",
              "      <th>mode</th>\n",
              "      <td>-0.035633</td>\n",
              "      <td>-0.000851</td>\n",
              "      <td>0.081664</td>\n",
              "      <td>-0.064239</td>\n",
              "      <td>-0.074012</td>\n",
              "      <td>-0.051654</td>\n",
              "      <td>-0.159793</td>\n",
              "      <td>0.010205</td>\n",
              "      <td>-0.029955</td>\n",
              "      <td>1.000000</td>\n",
              "      <td>-0.051520</td>\n",
              "      <td>0.003925</td>\n",
              "      <td>-0.027639</td>\n",
              "    </tr>\n",
              "    <tr>\n",
              "      <th>speechiness</th>\n",
              "      <td>-0.033453</td>\n",
              "      <td>-0.024749</td>\n",
              "      <td>-0.057158</td>\n",
              "      <td>0.170121</td>\n",
              "      <td>0.133717</td>\n",
              "      <td>-0.153154</td>\n",
              "      <td>0.023430</td>\n",
              "      <td>0.190169</td>\n",
              "      <td>0.052756</td>\n",
              "      <td>-0.051520</td>\n",
              "      <td>1.000000</td>\n",
              "      <td>0.000133</td>\n",
              "      <td>0.013874</td>\n",
              "    </tr>\n",
              "    <tr>\n",
              "      <th>tempo</th>\n",
              "      <td>-0.009919</td>\n",
              "      <td>0.014741</td>\n",
              "      <td>-0.202579</td>\n",
              "      <td>-0.001752</td>\n",
              "      <td>0.235639</td>\n",
              "      <td>-0.048466</td>\n",
              "      <td>0.008390</td>\n",
              "      <td>0.013130</td>\n",
              "      <td>0.208503</td>\n",
              "      <td>0.003925</td>\n",
              "      <td>0.000133</td>\n",
              "      <td>1.000000</td>\n",
              "      <td>0.051986</td>\n",
              "    </tr>\n",
              "    <tr>\n",
              "      <th>time_signature</th>\n",
              "      <td>0.020938</td>\n",
              "      <td>0.025021</td>\n",
              "      <td>-0.181075</td>\n",
              "      <td>0.197058</td>\n",
              "      <td>0.186932</td>\n",
              "      <td>-0.052824</td>\n",
              "      <td>0.010408</td>\n",
              "      <td>0.004274</td>\n",
              "      <td>0.170999</td>\n",
              "      <td>-0.027639</td>\n",
              "      <td>0.013874</td>\n",
              "      <td>0.051986</td>\n",
              "      <td>1.000000</td>\n",
              "    </tr>\n",
              "  </tbody>\n",
              "</table>\n",
              "</div>\n",
              "      <button class=\"colab-df-convert\" onclick=\"convertToInteractive('df-31ff2b89-7108-4dd1-90a3-bfd95f9c03ef')\"\n",
              "              title=\"Convert this dataframe to an interactive table.\"\n",
              "              style=\"display:none;\">\n",
              "        \n",
              "  <svg xmlns=\"http://www.w3.org/2000/svg\" height=\"24px\"viewBox=\"0 0 24 24\"\n",
              "       width=\"24px\">\n",
              "    <path d=\"M0 0h24v24H0V0z\" fill=\"none\"/>\n",
              "    <path d=\"M18.56 5.44l.94 2.06.94-2.06 2.06-.94-2.06-.94-.94-2.06-.94 2.06-2.06.94zm-11 1L8.5 8.5l.94-2.06 2.06-.94-2.06-.94L8.5 2.5l-.94 2.06-2.06.94zm10 10l.94 2.06.94-2.06 2.06-.94-2.06-.94-.94-2.06-.94 2.06-2.06.94z\"/><path d=\"M17.41 7.96l-1.37-1.37c-.4-.4-.92-.59-1.43-.59-.52 0-1.04.2-1.43.59L10.3 9.45l-7.72 7.72c-.78.78-.78 2.05 0 2.83L4 21.41c.39.39.9.59 1.41.59.51 0 1.02-.2 1.41-.59l7.78-7.78 2.81-2.81c.8-.78.8-2.07 0-2.86zM5.41 20L4 18.59l7.72-7.72 1.47 1.35L5.41 20z\"/>\n",
              "  </svg>\n",
              "      </button>\n",
              "      \n",
              "  <style>\n",
              "    .colab-df-container {\n",
              "      display:flex;\n",
              "      flex-wrap:wrap;\n",
              "      gap: 12px;\n",
              "    }\n",
              "\n",
              "    .colab-df-convert {\n",
              "      background-color: #E8F0FE;\n",
              "      border: none;\n",
              "      border-radius: 50%;\n",
              "      cursor: pointer;\n",
              "      display: none;\n",
              "      fill: #1967D2;\n",
              "      height: 32px;\n",
              "      padding: 0 0 0 0;\n",
              "      width: 32px;\n",
              "    }\n",
              "\n",
              "    .colab-df-convert:hover {\n",
              "      background-color: #E2EBFA;\n",
              "      box-shadow: 0px 1px 2px rgba(60, 64, 67, 0.3), 0px 1px 3px 1px rgba(60, 64, 67, 0.15);\n",
              "      fill: #174EA6;\n",
              "    }\n",
              "\n",
              "    [theme=dark] .colab-df-convert {\n",
              "      background-color: #3B4455;\n",
              "      fill: #D2E3FC;\n",
              "    }\n",
              "\n",
              "    [theme=dark] .colab-df-convert:hover {\n",
              "      background-color: #434B5C;\n",
              "      box-shadow: 0px 1px 3px 1px rgba(0, 0, 0, 0.15);\n",
              "      filter: drop-shadow(0px 1px 2px rgba(0, 0, 0, 0.3));\n",
              "      fill: #FFFFFF;\n",
              "    }\n",
              "  </style>\n",
              "\n",
              "      <script>\n",
              "        const buttonEl =\n",
              "          document.querySelector('#df-31ff2b89-7108-4dd1-90a3-bfd95f9c03ef button.colab-df-convert');\n",
              "        buttonEl.style.display =\n",
              "          google.colab.kernel.accessAllowed ? 'block' : 'none';\n",
              "\n",
              "        async function convertToInteractive(key) {\n",
              "          const element = document.querySelector('#df-31ff2b89-7108-4dd1-90a3-bfd95f9c03ef');\n",
              "          const dataTable =\n",
              "            await google.colab.kernel.invokeFunction('convertToInteractive',\n",
              "                                                     [key], {});\n",
              "          if (!dataTable) return;\n",
              "\n",
              "          const docLinkHtml = 'Like what you see? Visit the ' +\n",
              "            '<a target=\"_blank\" href=https://colab.research.google.com/notebooks/data_table.ipynb>data table notebook</a>'\n",
              "            + ' to learn more about interactive tables.';\n",
              "          element.innerHTML = '';\n",
              "          dataTable['output_type'] = 'display_data';\n",
              "          await google.colab.output.renderOutput(dataTable, element);\n",
              "          const docLink = document.createElement('div');\n",
              "          docLink.innerHTML = docLinkHtml;\n",
              "          element.appendChild(docLink);\n",
              "        }\n",
              "      </script>\n",
              "    </div>\n",
              "  </div>\n",
              "  "
            ]
          },
          "metadata": {},
          "execution_count": 20
        }
      ]
    },
    {
      "cell_type": "code",
      "source": [
        "pairwise_distances(tracks.drop(['id','name','artists','explicit'], axis=1),metric='cosine')"
      ],
      "metadata": {
        "id": "6EKJhq2XHoi-"
      },
      "execution_count": null,
      "outputs": []
    },
    {
      "cell_type": "code",
      "source": [
        "# hash feature sklearn"
      ],
      "metadata": {
        "id": "hBlPJ_Sn6lml"
      },
      "execution_count": null,
      "outputs": []
    }
  ]
}